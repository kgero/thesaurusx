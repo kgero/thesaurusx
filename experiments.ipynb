{
 "cells": [
  {
   "cell_type": "markdown",
   "metadata": {},
   "source": [
    "# Stability of word embeddings\n",
    "\n",
    "Cite: [Evaluating the Stability of Embedding-based Word Similarities](https://transacl.org/ojs/index.php/tacl/article/view/1202/286)"
   ]
  },
  {
   "cell_type": "code",
   "execution_count": 1,
   "metadata": {},
   "outputs": [
    {
     "data": {
      "text/plain": [
       "'/Users/katy/Documents/Grad/thesaurusx/env/bin/python'"
      ]
     },
     "execution_count": 1,
     "metadata": {},
     "output_type": "execute_result"
    }
   ],
   "source": [
    "import sys\n",
    "sys.executable"
   ]
  },
  {
   "cell_type": "code",
   "execution_count": 7,
   "metadata": {},
   "outputs": [],
   "source": [
    "import gensim\n",
    "import os\n",
    "import string\n",
    "\n",
    "from time import time"
   ]
  },
  {
   "cell_type": "code",
   "execution_count": 12,
   "metadata": {},
   "outputs": [],
   "source": [
    "table = str.maketrans({key: None for key in string.punctuation})   \n",
    "\n",
    "class MySentences(object):\n",
    "    def __init__(self, dirname):\n",
    "        self.dirname = dirname\n",
    "\n",
    "# for one sentence per line\n",
    "    def __iter__(self):\n",
    "        for fname in os.listdir(self.dirname):\n",
    "            for line in open(os.path.join(self.dirname, fname), errors='ignore'):\n",
    "                clean = line.lower().translate(table)\n",
    "                yield clean.split()\n",
    "\n",
    "\n",
    "def make_embeddings(name, suffix=''):\n",
    "    data = 'dat/' + name\n",
    "    filepath = 'tmp/{}{}.txt'.format(name, suffix)\n",
    "    words = 0\n",
    "    for fname in os.listdir(data):\n",
    "        for line in open(os.path.join(data, fname), errors='ignore'):\n",
    "            words += len(line.split(' '))\n",
    "    print(filepath, \":\", words, 'words')\n",
    "\n",
    "    start = time()\n",
    "    sentences = MySentences(data)  # a memory-friendly iterator\n",
    "    model = gensim.models.Word2Vec(sentences, size=100, window=5)\n",
    "    model.wv.save_word2vec_format(filepath)\n",
    "    print(\"took {:<2f} seconds\".format(time() - start))\n"
   ]
  },
  {
   "cell_type": "code",
   "execution_count": 13,
   "metadata": {},
   "outputs": [
    {
     "name": "stdout",
     "output_type": "stream",
     "text": [
      "tmp/darwin_0.txt : 2944538 words\n",
      "took 14.944857 seconds\n",
      "tmp/darwin_1.txt : 2944538 words\n",
      "took 14.825755 seconds\n",
      "tmp/darwin_2.txt : 2944538 words\n",
      "took 14.348472 seconds\n",
      "tmp/darwin_3.txt : 2944538 words\n",
      "took 15.933205 seconds\n",
      "tmp/darwin_4.txt : 2944538 words\n",
      "took 14.396053 seconds\n"
     ]
    }
   ],
   "source": [
    "for i in range(5):\n",
    "    make_embeddings('darwin', suffix='_{}'.format(i))"
   ]
  },
  {
   "cell_type": "code",
   "execution_count": 20,
   "metadata": {},
   "outputs": [],
   "source": [
    "vectors = gensim.models.KeyedVectors.load_word2vec_format(filepath)\n",
    "\n",
    "keystones = ['darwin', 'observations', 'books', 'open', 'variation', 'cat', 'facts']\n",
    "data = {}\n",
    "for i in range(5):\n",
    "    vectors = gensim.models.KeyedVectors.load_word2vec_format('tmp/{}_{}.txt'.format('darwin', i))\n",
    "    for key in keystones:\n",
    "        if key in data:\n",
    "            data[key].append(set([w for w,d in vectors.most_similar(key, topn=10)]))\n",
    "        else:\n",
    "            data[key] = [set([w for w, d in vectors.most_similar(key, topn=10)])]\n"
   ]
  },
  {
   "cell_type": "code",
   "execution_count": 26,
   "metadata": {},
   "outputs": [
    {
     "name": "stdout",
     "output_type": "stream",
     "text": [
      "DARWIN : 0.5829170829170829\n",
      "OBSERVATIONS : 0.7727272727272728\n",
      "BOOKS : 0.18464052287581703\n",
      "OPEN : 0.6242091242091241\n",
      "VARIATION : 0.5957375957375957\n",
      "CAT : 0.5514152514152514\n",
      "FACTS : 0.8575757575757577\n"
     ]
    }
   ],
   "source": [
    "for key in keystones:\n",
    "    jaccard_sims = []\n",
    "    for i, la in enumerate(data[key]):\n",
    "        for lo in data[key][i+1:]:\n",
    "            jac = len(la.intersection(lo)) / len(la.union(lo))\n",
    "            jaccard_sims.append(jac)\n",
    "    print(key.upper(), ':', sum(jaccard_sims)/len(jaccard_sims))\n",
    "    "
   ]
  },
  {
   "cell_type": "code",
   "execution_count": null,
   "metadata": {},
   "outputs": [],
   "source": []
  }
 ],
 "metadata": {
  "kernelspec": {
   "display_name": "env",
   "language": "python",
   "name": "env"
  },
  "language_info": {
   "codemirror_mode": {
    "name": "ipython",
    "version": 3
   },
   "file_extension": ".py",
   "mimetype": "text/x-python",
   "name": "python",
   "nbconvert_exporter": "python",
   "pygments_lexer": "ipython3",
   "version": "3.6.5"
  }
 },
 "nbformat": 4,
 "nbformat_minor": 2
}
