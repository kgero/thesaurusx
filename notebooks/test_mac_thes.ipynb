{
 "cells": [
  {
   "cell_type": "code",
   "execution_count": 8,
   "metadata": {},
   "outputs": [
    {
     "data": {
      "text/plain": [
       "13553"
      ]
     },
     "execution_count": 8,
     "metadata": {},
     "output_type": "execute_result"
    }
   ],
   "source": [
    "def load_macthes(filepath='../dat/other/mac_thes.txt'):\n",
    "    \"\"\"Return dict of word: set of synonyms.\n",
    "    \n",
    "    Thsi thesaurus is split by pos; ignore for now and throw all\n",
    "    synoyms into same entry.\n",
    "    \"\"\"\n",
    "    thes = dict()\n",
    "    with open(filepath, 'r') as fle:\n",
    "        for line in fle:\n",
    "            entry, words = line.strip('\\n').split(':')\n",
    "            key, pos = entry.split(' ')\n",
    "            words = words.split(', ')\n",
    "            if key in thes:\n",
    "                thes[key].update(words)\n",
    "            else:\n",
    "                thes[key] = set(words)\n",
    "    return thes\n",
    "thes = load_macthes()\n",
    "len(thes)"
   ]
  },
  {
   "cell_type": "code",
   "execution_count": 7,
   "metadata": {},
   "outputs": [
    {
     "name": "stdout",
     "output_type": "stream",
     "text": [
      "(James)\n",
      "(2\n",
      "(Williams\n",
      "(00)\n",
      "tradesman,\n",
      "greed,\n",
      "(military\n",
      "disc,\n",
      "kitschy,\n",
      "benefactor,\n",
      "spokesman,\n",
      "waiter,\n",
      "devilry,\n",
      "madman,\n",
      "(Paul's\n",
      "adviser,\n",
      "orient,\n",
      "gangling,\n",
      "marksman,\n",
      "among,\n",
      "egotism,\n",
      "uneconomic,\n",
      "hit-or-miss,\n",
      "businessman,\n",
      "kinsman,\n",
      "horror-struck,\n",
      "sorcerer,\n",
      "miasmic,\n",
      "bootleg,\n",
      "landlord,\n",
      "songster,\n",
      "demonic,\n",
      "afterward,\n",
      "egotist,\n",
      "likable,\n",
      "recurring,\n",
      "analytical,\n",
      "craftsman,\n",
      "gushing,\n",
      "prophet,\n",
      "gobbledygook,\n",
      "gibe,\n",
      "embed,\n",
      "postman,\n",
      "transcendence,\n",
      "metaphoric,\n",
      "egotistic,\n",
      "diametrical,\n",
      "helpmate,\n",
      "synergy,\n",
      "jell,\n",
      "actor,\n",
      "clergyman,\n",
      "flyer,\n",
      "chairman,\n",
      "heir,\n",
      "countryman,\n",
      "OK,\n",
      "doddering,\n",
      "down-at-heel,\n",
      "ax,\n",
      "comedian,\n",
      "forgo,\n",
      "henceforth,\n",
      "ingrained,\n",
      "mystic,\n",
      "blond,\n",
      "statesman,\n",
      "crosswise,\n",
      "horseman,\n",
      "toward,\n",
      "murderer,\n",
      "proprietor,\n",
      "disk,\n",
      "brindle,\n",
      "naught,\n",
      "diabolical,\n",
      "foreman,\n",
      "spaceman,\n",
      "emblematic,\n"
     ]
    }
   ],
   "source": [
    "for k in thes:\n",
    "    if ',' in k or '(' in k:\n",
    "        print(k)"
   ]
  },
  {
   "cell_type": "code",
   "execution_count": null,
   "metadata": {},
   "outputs": [],
   "source": []
  }
 ],
 "metadata": {
  "kernelspec": {
   "display_name": "env",
   "language": "python",
   "name": "env"
  },
  "language_info": {
   "codemirror_mode": {
    "name": "ipython",
    "version": 3
   },
   "file_extension": ".py",
   "mimetype": "text/x-python",
   "name": "python",
   "nbconvert_exporter": "python",
   "pygments_lexer": "ipython3",
   "version": "3.6.5"
  }
 },
 "nbformat": 4,
 "nbformat_minor": 2
}
