{
 "cells": [
  {
   "cell_type": "code",
   "execution_count": 8,
   "metadata": {},
   "outputs": [
    {
     "name": "stdout",
     "output_type": "stream",
     "text": [
      "../dat/corpora/joyce/James Joyce___Ulysses.txt\n",
      "../dat/corpora/joyce/James Joyce___Dubliners.txt\n",
      "../dat/corpora/joyce/James Joyce___A Portrait of the Artist as a Young Man.txt\n",
      "../dat/corpora/joyce/James Joyce___Chamber Music.txt\n"
     ]
    }
   ],
   "source": [
    "import os, re\n",
    "\n",
    "filename = 'test.txt'\n",
    "basepath = '../dat/corpora/joyce'\n",
    "files = os.listdir(basepath)\n",
    "for filename in files:\n",
    "    if filename[-4:] == '.txt':\n",
    "        filepath = os.path.join(basepath, filename)\n",
    "        print(filepath)\n",
    "        with open(filepath, 'r') as fle:\n",
    "            text = fle.read()\n",
    "\n",
    "        text = re.sub(r'\\n(?!\\n)', ' ', text)\n",
    "\n",
    "        with open(filepath, 'w') as fle:\n",
    "            fle.write(text)"
   ]
  },
  {
   "cell_type": "code",
   "execution_count": null,
   "metadata": {},
   "outputs": [],
   "source": []
  }
 ],
 "metadata": {
  "kernelspec": {
   "display_name": "env",
   "language": "python",
   "name": "env"
  },
  "language_info": {
   "codemirror_mode": {
    "name": "ipython",
    "version": 3
   },
   "file_extension": ".py",
   "mimetype": "text/x-python",
   "name": "python",
   "nbconvert_exporter": "python",
   "pygments_lexer": "ipython3",
   "version": "3.6.5"
  }
 },
 "nbformat": 4,
 "nbformat_minor": 2
}
